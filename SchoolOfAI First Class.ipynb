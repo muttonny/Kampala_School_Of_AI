{
 "cells": [
  {
   "cell_type": "markdown",
   "metadata": {},
   "source": [
    "# Introduction Class"
   ]
  },
  {
   "cell_type": "markdown",
   "metadata": {},
   "source": [
    "Hello, world it’s Atwine & Tonny! We are the deans for Kampala School of AI."
   ]
  },
  {
   "cell_type": "markdown",
   "metadata": {},
   "source": [
    "# What is School Of AI?"
   ]
  },
  {
   "cell_type": "markdown",
   "metadata": {},
   "source": [
    "School Of AI is an International school dedicated to studying, teaching and creating Artificial Intelligence to benefit humanity by solving the world's most difficult problems.\n",
    "\n",
    "The School was pioneered by Siraj Raval an AI wizard, a data scientist and now the director\n",
    "\n",
    "Our mission is to offer a world-class AI education to anyone on Earth for free. Our doors are open to all those who wish to learn. We are a learning community that spans almost every country dedicated to teaching our students how to make a positive impact in the world using AI technology, whether that's through employment or entrepreneurship.\n",
    "\n",
    "To learn more about the school of ai you can visit this [link](http://bit.ly/SchoolOfAI)\n",
    "\n",
    "We host meetups two times a month. To stay up to date on when and where we will host our next meetup please sign up for our group updates [HERE](https://www.meetup.com/Kampala-School-of-AI/). You can also join our facebook group [HERE](https://www.facebook.com/groups/270444503574853/)\n",
    "\n"
   ]
  },
  {
   "cell_type": "markdown",
   "metadata": {},
   "source": [
    "## What is the vision of the school of AI?"
   ]
  },
  {
   "cell_type": "markdown",
   "metadata": {},
   "source": [
    "# What is Artificial Intelligence?"
   ]
  },
  {
   "cell_type": "markdown",
   "metadata": {},
   "source": [
    "Artificial intelligence (AI), sometimes called machine intelligence, is intelligence demonstrated by machines, in contrast to the natural intelligence displayed by humans and other animals. In computer science AI research is defined as the study of \"intelligent agents\": any device that perceives its environment and takes actions that maximize its chance of successfully achieving its goals. according to [Wikipedia](https://en.wikipedia.org/wiki/Artificial_intelligence)"
   ]
  },
  {
   "cell_type": "markdown",
   "metadata": {},
   "source": [
    "# Who should take the course?"
   ]
  },
  {
   "cell_type": "markdown",
   "metadata": {},
   "source": [
    "This course is intended for all students, researchers, data scientists, AI enthusiasts and all those whose mission is help humanity through finding solutions to day to day problems using AI as a tool."
   ]
  },
  {
   "cell_type": "markdown",
   "metadata": {},
   "source": [
    "# What are your expectations joining School Of AI?"
   ]
  },
  {
   "cell_type": "markdown",
   "metadata": {},
   "source": [
    "# What requirements are needed for the course?"
   ]
  },
  {
   "cell_type": "markdown",
   "metadata": {},
   "source": [
    "1. Laptop specs()\n",
    "2. Choose a programming language (Phython)\n",
    "3. Mathematics\n",
    "4. Algorithm Design\n",
    "\n",
    "Month1 —  Math and Algorithms\n",
    "- Calculus\n",
    "- Algorithms and complexity\n",
    "- Probability Theory and Statistics\n",
    "- linear algebra\n",
    "\n",
    "Month2 —  Machine Learning\n",
    "- Supervised learning\n",
    "- Unsupervised learning\n",
    "\n",
    "Month2 —  Deep learning"
   ]
  },
  {
   "cell_type": "markdown",
   "metadata": {},
   "source": [
    "# What can we achieve with AI?"
   ]
  },
  {
   "cell_type": "markdown",
   "metadata": {},
   "source": [
    "1. Easy and fast diagnosis of diseases and infections. This allows doctors to more efficiently treat diseases \n",
    "which later will improve health care immensely.\n",
    "2. Detecting and Prevention of fraud in financial institutions\n",
    "3. Stock price predictions\n",
    "\n",
    "and so on..."
   ]
  },
  {
   "cell_type": "markdown",
   "metadata": {},
   "source": [
    "# AI Demo project "
   ]
  },
  {
   "cell_type": "markdown",
   "metadata": {},
   "source": [
    "1. Face recognition for identity projects\n",
    "take a picture of the intended party, and post to the server for processing, \n",
    "apply machine learning to the picture to make comparison from a big dataset of user data.\n",
    "\n",
    "2. Diagnosis of diseases in crops\n",
    "\n",
    "Tools to use\n",
    "- Phython Nearest Neighbor Algorithm\n",
    "\n",
    "3. Determing the likelyhood of a person being approved or denied for a Loan\n",
    "[Demo](https://beckernick.github.io/logistic-regression-from-scratch/)"
   ]
  },
  {
   "cell_type": "markdown",
   "metadata": {},
   "source": [
    "# Way Forward"
   ]
  },
  {
   "cell_type": "code",
   "execution_count": null,
   "metadata": {},
   "outputs": [],
   "source": []
  }
 ],
 "metadata": {
  "kernelspec": {
   "display_name": "Python 3",
   "language": "python",
   "name": "python3"
  },
  "language_info": {
   "codemirror_mode": {
    "name": "ipython",
    "version": 3
   },
   "file_extension": ".py",
   "mimetype": "text/x-python",
   "name": "python",
   "nbconvert_exporter": "python",
   "pygments_lexer": "ipython3",
   "version": "3.6.4"
  }
 },
 "nbformat": 4,
 "nbformat_minor": 2
}
