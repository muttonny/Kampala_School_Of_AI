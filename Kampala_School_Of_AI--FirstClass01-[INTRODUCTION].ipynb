{
 "cells": [
  {
   "cell_type": "markdown",
   "metadata": {},
   "source": [
    "<img src = 'School of ai inverse logo.png'></img>"
   ]
  },
  {
   "cell_type": "markdown",
   "metadata": {},
   "source": [
    "## Important Links:\n",
    "- Our GitHub repository for [KlaSchoolOfAI](https://github.com/muttonny/Kampala_School_Of_AI.git)\n",
    "- Facebook [Group](https://www.facebook.com/groups/270444503574853/)\n",
    "- Slack [Channel](https://join.slack.com/t/kampala-school-of-ai/shared_invite/enQtNDYzOTIzNTYyODY4LWZkOGU3NmFhNzQ4MDc0ZmRmNTYzNDc1YjM5NmNiODI2Yjc1Nzc2MmY2NDVhZmZlY2E3NzA1Yjk3NTU3OGI4OGI)\n",
    "- Our [Calendar](https://calendar.google.com/calendar?cid=bmVzOWMxY3Ixc3VtaXRybmQyNGVzM3BrajBAZ3JvdXAuY2FsZW5kYXIuZ29vZ2xlLmNvbQ)"
   ]
  },
  {
   "cell_type": "markdown",
   "metadata": {},
   "source": [
    "# Introduction Class\n",
    "\n",
    "Hello, world it’s Atwine & Tonny! We are the deans for **Kampala** school of ai. \n",
    "\n",
    "\n",
    "## What is school of AI?\n",
    "\n",
    "The School of AI’s mission is to offer a world-class AI education to anyone on Earth for free. Our doors are open to all those who wish to learn. We are a learning community that spans almost every country dedicated to teaching our students how to make a positive impact in the world using AI technology, whether that's through employment or entrepreneurship.\n",
    "\n",
    "To learn more about the school of ai you can visit this [link](http://bit.ly/SchoolOfAI)\n",
    "\n",
    "We host meetups every two weeks on Friday at this location. To stay up to date on when and where we will host our next meetup please sign up for our Facebook Group.\n",
    "\n",
    "### Please note: there are two plaforms we are going to use for sending messages that is Facebook group and the Slack channel. Please join one of them to stay updated on the latest assignments, articles and news.\n",
    "\n",
    "For those who have friends around the world you can find your local chapter [here](https://secret-mesa-23063.herokuapp.com/)\n",
    "\n",
    "### School of AI is an international movement spanning various countries and we are lucky to be among these:\n",
    "\n",
    "<img src = 'School of AI Chapters.png'>\n",
    "\n",
    "## What is the vision of the school of AI?\n",
    "\n",
    "* To avail high quality eduction to every body free of charge\n",
    "* To assist people with knowledge that will help them solve their problems through AI\n",
    "* To build a global community of tech enthusiats who can effect change in the world\n"
   ]
  },
  {
   "cell_type": "markdown",
   "metadata": {},
   "source": [
    "## Some of the Schools Already in Action:\n",
    "\n",
    "### India\n",
    "<img src = 'India.jpg'>\n",
    "\n",
    "### Charlote USA\n",
    "<img src = 'Charlote.jpg'>\n",
    "\n",
    "### Toronto Canada\n",
    "<img src = 'Toronto.jpg'>\n",
    "<img src = 'Toronto2.jpg'>"
   ]
  },
  {
   "cell_type": "code",
   "execution_count": 13,
   "metadata": {},
   "outputs": [
    {
     "data": {
      "text/html": [
       "<iframe width=\"560\" height=\"315\" src=\"https://www.youtube.com/embed/8yu8rtXThy8\" frameborder=\"0\" allow=\"autoplay; encrypted-media\" allowfullscreen></iframe>"
      ],
      "text/plain": [
       "<IPython.core.display.HTML object>"
      ]
     },
     "execution_count": 13,
     "metadata": {},
     "output_type": "execute_result"
    }
   ],
   "source": [
    "from IPython.display import HTML\n",
    "# Youtube\n",
    "HTML('<iframe width=\"560\" height=\"315\" src=\"https://www.youtube.com/embed/8yu8rtXThy8\" frameborder=\"0\" allow=\"autoplay; encrypted-media\" allowfullscreen></iframe>')"
   ]
  },
  {
   "cell_type": "markdown",
   "metadata": {},
   "source": [
    "# What is Artificial Intelligence?\n",
    "\n",
    "`Artificial intelligence (AI)`, sometimes called machine intelligence, is intelligence demonstrated by machines, in contrast to the natural intelligence displayed by humans and other animals. In computer science AI research is defined as the study of \"intelligent agents\": any device that perceives its environment and takes actions that maximize its chance of successfully achieving its goals. according to [Wikipedia](https://en.wikipedia.org/wiki/Artificial_intelligence)\n",
    "\n",
    "Artificial intelligence (AI) makes it possible for machines to learn from experience, adjust to new inputs and perform human-like tasks. Most AI examples that you hear about today – from chess-playing computers to self-driving cars – rely heavily on deep learning and natural language processing. Using these technologies, computers can be trained to accomplish specific tasks by processing large amounts of data and recognizing patterns in the data.\n",
    "\n",
    "Artificial Intelligence includes other disciplines like:\n",
    "* `Machine Learning`:Deep learning is a type of machine learning that trains a computer to perform human-like tasks, such as recognizing speech, identifying images or making predictions. Instead of organizing data to run through predefined equations, deep learning sets up basic parameters about the data and trains the computer to learn on its own by recognizing patterns using many layers of processing.\n",
    "\n",
    "* `Deep Learning`: Machine learning is a method of data analysis that automates analytical model building. It is a branch of artificial intelligence based on the idea that systems can learn from data, identify patterns and make decisions with minimal human intervention.\n",
    "\n",
    "This can be summarized as below:\n",
    "\n",
    "<img src = 'ai-101.png'>"
   ]
  },
  {
   "cell_type": "markdown",
   "metadata": {},
   "source": [
    "# Who should take the course?\n",
    "\n",
    "This course is intended for: \n",
    "* All students \n",
    "* Researchers \n",
    "* Data scientists \n",
    "* AI enthusiasts and all those whose mission is help humanity through finding solutions to day to day problems using AI as a tool."
   ]
  },
  {
   "cell_type": "markdown",
   "metadata": {},
   "source": [
    "# What requirements are needed for the course?"
   ]
  },
  {
   "cell_type": "code",
   "execution_count": 5,
   "metadata": {},
   "outputs": [
    {
     "data": {
      "text/html": [
       "<iframe src=\"https://giphy.com/embed/l1BgR9TDjsjOFOhhu\" width=\"480\" height=\"270\" frameBorder=\"0\" class=\"giphy-embed\" allowFullScreen></iframe><p><a href=\"https://giphy.com/gifs/lilyachty-lil-yachty-l1BgR9TDjsjOFOhhu\">via GIPHY</a></p>"
      ],
      "text/plain": [
       "<IPython.core.display.HTML object>"
      ]
     },
     "execution_count": 5,
     "metadata": {},
     "output_type": "execute_result"
    }
   ],
   "source": [
    "HTML('<iframe src=\"https://giphy.com/embed/l1BgR9TDjsjOFOhhu\" width=\"480\" height=\"270\" frameBorder=\"0\" class=\"giphy-embed\" allowFullScreen></iframe><p><a href=\"https://giphy.com/gifs/lilyachty-lil-yachty-l1BgR9TDjsjOFOhhu\">via GIPHY</a></p>')"
   ]
  },
  {
   "cell_type": "markdown",
   "metadata": {},
   "source": [
    "1. Laptop specs(4Gb through 8Gb) for Machine learning\n",
    "2. Choice programming language (Phython)\n",
    "3. Mathematics (simple math we could build on lets say s4 maths)\n",
    "4. If your computer doesn't have the specs you can use the online platforms to run the dependencies these include: kaggle, googlecolab they will be of great help.\n",
    "\n",
    "#### Month1 —  Math and Algorithms with Python\n",
    "- Introduction to AI platforms: `Jupyter Notebooks, Anaconda,Kaggle, GitHub, AWS, Google Colab and setting up working environments`\n",
    "- Intro to python for Data Science: `we shall all begin from 0 and grow together.`\n",
    "\n",
    "\n",
    "##### `Once we have completed the top three objectives`\n",
    "- Intro to Probability Theory and Statistics\n",
    "- Linear algebra.\n",
    "- Algorithms and complexity\n",
    "- Simple Calculus for AI\n",
    "\n",
    "#### Month2 —  Machine Learning\n",
    "- Supervised learning\n",
    "- Unsupervised learning\n",
    "\n",
    "#### Month3 —  Deep learning\n",
    "- Reinforcement Learning.\n",
    "- Convolutional Networks.\n",
    "- Generial Adversarial Networks.\n",
    "- Reccuring and Recursive Networks."
   ]
  },
  {
   "cell_type": "markdown",
   "metadata": {},
   "source": [
    "# What can we achieve with AI?\n",
    "\n",
    "- #### `Face recognition for identity projects`\n",
    "take a picture of the intended party, and post to the server for processing, \n",
    "apply machine learning to the picture to make comparison from a big dataset of user data.\n",
    "<br>\n",
    "- #### `Diagnosis of diseases in crops`\n",
    "Tools to use\n",
    "- Phython Nearest Neighbor Algorithm\n",
    "<br>\n",
    "- #### `Determing the likelyhood of a person being approved or denied for a Loan`\n",
    "[Demo](https://beckernick.github.io/logistic-regression-from-scratch/)\n",
    "\n",
    "- #### `Marketing and business`\n",
    "AI can be used in marketing and business, a case in study: recent automated machines(cars) can deliver products to customers by themselves. [Demo](https://www.youtube.com/embed/sIlCR4eG8_o)\n",
    "\n",
    "AI is becoming the “right hand” of marketers and retailers around the world.\n",
    "\n",
    "So, if you’re asking yourself what kind of things it can do… [this article](https://blog.adext.com/en/applications-of-artificial-intelligence-in-digital-marketing) goes over, in detail, every one of its possible applications in the exclusive fields of digital marketing and sales. So, we recommend that you give it a thorough read since implementing AI in your company will bring you more benefits that you can imagine. It’s a revolution for the better.\n",
    "\n",
    "But first, let’s see some amazing summarized examples!\n",
    "\n",
    "Through AI and machine learning, the most profitable audiences can be found for any ad. This means that intelligent algorithms are able to learn, detect, and predict which types of users are more likely to become clients at a lower cost per acquisition.\n",
    "\n",
    "[Adext](https://www.adext.ai/?utm_source=blog&utm_medium=internalink&utm_campaign=applications-of-artificial-intelligence) is a software as a service that applies AI to find the most profitable audience for any ad. Using machine learning algorithms it manages, optimizes, and automatically updates your digital campaign budget in over 20 different demographic groups per ad and on several platforms. With 480 daily adjustments to every single ad, its advanced AI has been able to increase ads' conversion performance by an average of 1265%."
   ]
  },
  {
   "cell_type": "code",
   "execution_count": 4,
   "metadata": {},
   "outputs": [
    {
     "data": {
      "text/html": [
       "<iframe width=\"560\" height=\"315\" src=\"https://www.youtube.com/embed/sIlCR4eG8_o\" frameborder=\"0\" allow=\"autoplay; encrypted-media\" allowfullscreen></iframe>"
      ],
      "text/plain": [
       "<IPython.core.display.HTML object>"
      ]
     },
     "execution_count": 4,
     "metadata": {},
     "output_type": "execute_result"
    }
   ],
   "source": [
    "from IPython.display import HTML\n",
    "# Youtube\n",
    "HTML('<iframe width=\"560\" height=\"315\" src=\"https://www.youtube.com/embed/sIlCR4eG8_o\" frameborder=\"0\" allow=\"autoplay; encrypted-media\" allowfullscreen></iframe>')\n"
   ]
  },
  {
   "cell_type": "markdown",
   "metadata": {},
   "source": [
    "- #### `Diagnose Human related Diseases`\n",
    "In the Advent of AI we have come accross systems that are now able to detect and diagnose diseases faster than human beings\n",
    "[Demo](https://www.forbes.com/sites/bernardmarr/2017/05/16/how-ai-and-deep-learning-is-now-used-to-diagnose-cancer/#53e9cb7fc783)\n",
    "\n",
    "We will be able to handle such topics problems:\n",
    "There is a current competition on health care currentl running on [Kaggle](www.kaggle.com) the [competition](https://www.kaggle.com/c/rsna-pneumonia-detection-challenge) concerns detecting some health anomaly in various immages. We may need to apply deep learning for visual recognition in order to solve such expensive issues."
   ]
  },
  {
   "cell_type": "code",
   "execution_count": 7,
   "metadata": {},
   "outputs": [
    {
     "data": {
      "text/html": [
       "<iframe width=\"560\" height=\"315\" src=\"https://www.youtube.com/embed/DCcmFXXAHf4\" frameborder=\"0\" allow=\"autoplay; encrypted-media\" allowfullscreen></iframe>"
      ],
      "text/plain": [
       "<IPython.core.display.HTML object>"
      ]
     },
     "execution_count": 7,
     "metadata": {},
     "output_type": "execute_result"
    }
   ],
   "source": [
    "HTML('<iframe width=\"560\" height=\"315\" src=\"https://www.youtube.com/embed/DCcmFXXAHf4\" frameborder=\"0\" allow=\"autoplay; encrypted-media\" allowfullscreen></iframe>')"
   ]
  },
  {
   "cell_type": "code",
   "execution_count": 8,
   "metadata": {},
   "outputs": [
    {
     "data": {
      "text/html": [
       "<iframe width=\"560\" height=\"315\" src=\"https://www.youtube.com/embed/hY9Bc3mtphs\" frameborder=\"0\" allow=\"autoplay; encrypted-media\" allowfullscreen></iframe>"
      ],
      "text/plain": [
       "<IPython.core.display.HTML object>"
      ]
     },
     "execution_count": 8,
     "metadata": {},
     "output_type": "execute_result"
    }
   ],
   "source": [
    "HTML('<iframe width=\"560\" height=\"315\" src=\"https://www.youtube.com/embed/hY9Bc3mtphs\" frameborder=\"0\" allow=\"autoplay; encrypted-media\" allowfullscreen></iframe>')"
   ]
  },
  {
   "cell_type": "markdown",
   "metadata": {},
   "source": [
    "- #### `Detecting Online Fraud`\n",
    "Have you ever wondered why, if you try to use your old expired card tobuy things online you never get beyond filling in the information. Your card is  **REJECTED**  because AI algorithms have been trained to sniff out fraudulent card manipulations for security purposes."
   ]
  },
  {
   "cell_type": "markdown",
   "metadata": {},
   "source": [
    "# Way Forward?"
   ]
  },
  {
   "cell_type": "code",
   "execution_count": 5,
   "metadata": {},
   "outputs": [
    {
     "data": {
      "text/html": [
       "<iframe src=\"https://giphy.com/embed/xkmNi280NkrcY\" width=\"300\" height=\"300\" frameBorder=\"0\" class=\"giphy-embed\" allowFullScreen></iframe><p><a href=\"https://giphy.com/gifs/realitytvgifs-reality-tv-xkmNi280NkrcY\">via GIPHY</a></p>"
      ],
      "text/plain": [
       "<IPython.core.display.HTML object>"
      ]
     },
     "execution_count": 5,
     "metadata": {},
     "output_type": "execute_result"
    }
   ],
   "source": [
    "HTML('<iframe src=\"https://giphy.com/embed/xkmNi280NkrcY\" width=\"300\" height=\"300\" frameBorder=\"0\" class=\"giphy-embed\" allowFullScreen></iframe><p><a href=\"https://giphy.com/gifs/realitytvgifs-reality-tv-xkmNi280NkrcY\">via GIPHY</a></p>')"
   ]
  },
  {
   "cell_type": "markdown",
   "metadata": {},
   "source": [
    "## Structure:\n",
    "\n",
    "- #### `Instructors:`:\n",
    "We will have both internal and external instructors: as of now Atwine and Tonny will take you through the basics and introductions of what we are going into.\n",
    "\n",
    "- #### `Meet Ups:`\n",
    "We will have meet ups every two weeks from today: The classes will alternate between `theory` and `practical`. If today we studied a concept then we will implement the concept on the next class.\n",
    "\n",
    "This is because we have limited time and we would like to focus our minds on one thing and do it well.\n",
    "\n",
    "Get ready to get your hands **DIRTY** because we are going to dive in and get moving.\n",
    "\n",
    "\n",
    "# FIRST ORDER OF THE DAY\n",
    "\n",
    "- #### `Setting Up Environments:`\n",
    "Students are expected to set up  environment on their computers, these include:\n",
    "- > **Anaconda Environment:** which will help manage our python environment. It is a software you can download and it will help you interact with python through notebooks.\n",
    "\n",
    "- > **GitHub Environment:** this will help us collaborate on all the projects that we will work on. Please find and follow your class Instructors so you are up to date on what is going on in the classes.\n",
    "\n",
    "- > **Kaggle Environment:** on this platform we will be able to access datasets and competitions to help us practice what we have learnt. One can also do these classes by opening up an account there. Most of what we need is there with also GPU capabilities to run heavy `neural nets`\n",
    "\n",
    "- > **Google Colab & AWS- Optional:** since we will be diving into heavy duty codes later we will need these two platforms for their GPU capabilities in order to run models like RRN- Recurent Recursive networks in Deep Learning \n",
    "\n",
    "\n",
    "### NOTE:\n",
    "\n",
    "For those who may not be able to access laptops all the time, it is imperative that they set up these online environments because they come preinstalled with the needed libraries all you need is your user name and password: most effective being a googlemail email aything@gmail.com will help you access most of these platforms."
   ]
  },
  {
   "cell_type": "code",
   "execution_count": 7,
   "metadata": {},
   "outputs": [
    {
     "data": {
      "text/html": [
       "<div style=\"width:80%;height:0;padding-bottom:75%;position:relative;\"><iframe src=\"https://giphy.com/embed/3oKGzCvdJbyWsc5Nni\" width=\"100%\" height=\"100%\" style=\"position:absolute\" frameBorder=\"0\" class=\"giphy-embed\" allowFullScreen></iframe></div><p><a href=\"https://giphy.com/gifs/flag-motivation-runner-3oKGzCvdJbyWsc5Nni\">via GIPHY</a></p>"
      ],
      "text/plain": [
       "<IPython.core.display.HTML object>"
      ]
     },
     "execution_count": 7,
     "metadata": {},
     "output_type": "execute_result"
    }
   ],
   "source": [
    "HTML('<div style=\"width:80%;height:0;padding-bottom:75%;position:relative;\"><iframe src=\"https://giphy.com/embed/3oKGzCvdJbyWsc5Nni\" width=\"100%\" height=\"100%\" style=\"position:absolute\" frameBorder=\"0\" class=\"giphy-embed\" allowFullScreen></iframe></div><p><a href=\"https://giphy.com/gifs/flag-motivation-runner-3oKGzCvdJbyWsc5Nni\">via GIPHY</a></p>')"
   ]
  },
  {
   "cell_type": "markdown",
   "metadata": {},
   "source": [
    "# HOMEWORK:-"
   ]
  },
  {
   "cell_type": "code",
   "execution_count": 9,
   "metadata": {},
   "outputs": [
    {
     "data": {
      "text/html": [
       "<div style=\"width:70%;height:0;padding-bottom:57%;position:relative;\"><iframe src=\"https://giphy.com/embed/l396BXlj6Xgzav3xK\" width=\"100%\" height=\"100%\" style=\"position:absolute\" frameBorder=\"0\" class=\"giphy-embed\" allowFullScreen></iframe></div><p><a href=\"https://giphy.com/gifs/family-guy-bruce-oh-no-l396BXlj6Xgzav3xK\">via GIPHY</a></p>"
      ],
      "text/plain": [
       "<IPython.core.display.HTML object>"
      ]
     },
     "execution_count": 9,
     "metadata": {},
     "output_type": "execute_result"
    }
   ],
   "source": [
    "HTML('<div style=\"width:70%;height:0;padding-bottom:57%;position:relative;\"><iframe src=\"https://giphy.com/embed/l396BXlj6Xgzav3xK\" width=\"100%\" height=\"100%\" style=\"position:absolute\" frameBorder=\"0\" class=\"giphy-embed\" allowFullScreen></iframe></div><p><a href=\"https://giphy.com/gifs/family-guy-bruce-oh-no-l396BXlj6Xgzav3xK\">via GIPHY</a></p>')"
   ]
  },
  {
   "cell_type": "markdown",
   "metadata": {},
   "source": [
    "- ### `Platforms`\n",
    "\n",
    "1- [Kaggle](www.kaggle.com): create an account and follow your representative\n",
    "<br>\n",
    "2- [Google Colab](https://colab.research.google.com/): all you need is a user name and password\n",
    "<br>\n",
    "3- [Anaconda](https://www.anaconda.com/download/): this will help us in launching Jupyter Notebooks\n",
    "<br>\n",
    "4- [GitHub](www.github.com): create an account and follow your representative and also download the desktop application which willhelp you clone repositories\n",
    "\n",
    "\n",
    "# THIS IS GOING TO BE EPIC!\n",
    "\n",
    "Please clone this [INTRODUCTION TO PYTHON](https://github.com/cuttlefishh/python-for-data-analysis.git) so we can begin! \n",
    "\n",
    "### We will begin from lesson four.\n",
    "\n",
    "To clone this repository here is what you need to do:\n",
    "\n",
    "- Get a GitHub Account for free to you can host your projects there\n",
    "- Get the GitHub application for your deskop and SignIn\n",
    "- Click the link above and go to the site\n",
    "- Fork the repository: forking means the algorith makes a copy and puts that under your account name.\n",
    "- There will be a green button with options: clone or download\n",
    "- Choose any of the above, if you download you will need to specify a location, and this is where you are going to access these files from in the notebook environment\n",
    "- When you choose to clone after installing the desktop gitHub app. Choose open in Desktop and it will automatically lauch the app and you click clone so that a replica of that repository will be made available on your desktop.\n"
   ]
  },
  {
   "cell_type": "code",
   "execution_count": 12,
   "metadata": {},
   "outputs": [
    {
     "data": {
      "text/html": [
       "<div style=\"width:50%;height:0;padding-bottom:99%;position:relative;\"><iframe src=\"https://giphy.com/embed/l2JhL1AzTxORUTDlC\" width=\"100%\" height=\"100%\" style=\"position:absolute\" frameBorder=\"0\" class=\"giphy-embed\" allowFullScreen></iframe></div><p><a href=\"https://giphy.com/gifs/nba-dance-dancing-l2JhL1AzTxORUTDlC\">via GIPHY</a></p>"
      ],
      "text/plain": [
       "<IPython.core.display.HTML object>"
      ]
     },
     "execution_count": 12,
     "metadata": {},
     "output_type": "execute_result"
    }
   ],
   "source": [
    "HTML('<div style=\"width:50%;height:0;padding-bottom:99%;position:relative;\"><iframe src=\"https://giphy.com/embed/l2JhL1AzTxORUTDlC\" width=\"100%\" height=\"100%\" style=\"position:absolute\" frameBorder=\"0\" class=\"giphy-embed\" allowFullScreen></iframe></div><p><a href=\"https://giphy.com/gifs/nba-dance-dancing-l2JhL1AzTxORUTDlC\">via GIPHY</a></p>')"
   ]
  }
 ],
 "metadata": {
  "kernelspec": {
   "display_name": "Python 3",
   "language": "python",
   "name": "python3"
  },
  "language_info": {
   "codemirror_mode": {
    "name": "ipython",
    "version": 3
   },
   "file_extension": ".py",
   "mimetype": "text/x-python",
   "name": "python",
   "nbconvert_exporter": "python",
   "pygments_lexer": "ipython3",
   "version": "3.6.4"
  }
 },
 "nbformat": 4,
 "nbformat_minor": 2
}
