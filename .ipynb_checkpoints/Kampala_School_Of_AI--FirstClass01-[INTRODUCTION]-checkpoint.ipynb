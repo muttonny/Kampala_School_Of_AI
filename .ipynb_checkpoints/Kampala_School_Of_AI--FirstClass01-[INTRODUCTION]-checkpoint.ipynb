{
 "cells": [
  {
   "cell_type": "markdown",
   "metadata": {},
   "source": [
    "<img src = 'School of ai inverse logo.png'></img>"
   ]
  },
  {
   "cell_type": "markdown",
   "metadata": {},
   "source": [
    "# Introduction Class\n",
    "\n",
    "Hello, world it’s Atwine & Tonny! We are the deans for **Kampala** school of ai. \n",
    "\n",
    "\n",
    "## What is school of AI?\n",
    "\n",
    "The School of AI’s mission is to offer a world-class AI education to anyone on Earth for free. Our doors are open to all those who wish to learn. We are a learning community that spans almost every country dedicated to teaching our students how to make a positive impact in the world using AI technology, whether that's through employment or entrepreneurship.\n",
    "\n",
    "To learn more about the school of ai you can visit this [link](http://bit.ly/SchoolOfAI)\n",
    "\n",
    "We host meetups every [x.] To stay up to date on when and where we will host our next meetup please sign up for our group[HERE](https://www.meetup.com/Kampala-School-of-AI/). \n",
    "\n",
    "For those who have friends around the world you can find your local chapter [here](https://secret-mesa-23063.herokuapp.com/)\n",
    "\n",
    "### School of AI is an international movement spanning various countries and we are lucky to be among these:\n",
    "\n",
    "<img src = 'School of AI Chapters.png'>\n",
    "\n",
    "## What is the vision of the school of AI?\n",
    "\n",
    "* To avail high quality eduction to every body free of charge\n",
    "* To assist people with knowledge that will help them solve their problems through AI\n",
    "* To build a global community of tech enthusiats who can effect change in the world\n"
   ]
  },
  {
   "cell_type": "markdown",
   "metadata": {},
   "source": [
    "# What is Artificial Intelligence?\n",
    "\n",
    "`Artificial intelligence (AI)`, sometimes called machine intelligence, is intelligence demonstrated by machines, in contrast to the natural intelligence displayed by humans and other animals. In computer science AI research is defined as the study of \"intelligent agents\": any device that perceives its environment and takes actions that maximize its chance of successfully achieving its goals. according to [Wikipedia](https://en.wikipedia.org/wiki/Artificial_intelligence)\n",
    "\n",
    "Artificial intelligence (AI) makes it possible for machines to learn from experience, adjust to new inputs and perform human-like tasks. Most AI examples that you hear about today – from chess-playing computers to self-driving cars – rely heavily on deep learning and natural language processing. Using these technologies, computers can be trained to accomplish specific tasks by processing large amounts of data and recognizing patterns in the data.\n",
    "\n",
    "Artificial Intelligence includes other disciplines like:\n",
    "* Machine Learning:Deep learning is a type of machine learning that trains a computer to perform human-like tasks, such as recognizing speech, identifying images or making predictions. Instead of organizing data to run through predefined equations, deep learning sets up basic parameters about the data and trains the computer to learn on its own by recognizing patterns using many layers of processing.\n",
    "\n",
    "* Deep Learning: Machine learning is a method of data analysis that automates analytical model building. It is a branch of artificial intelligence based on the idea that systems can learn from data, identify patterns and make decisions with minimal human intervention.\n",
    "\n",
    "This can be summarized as below:\n",
    "\n",
    "<img src = 'ai-101.png'>"
   ]
  },
  {
   "cell_type": "markdown",
   "metadata": {},
   "source": [
    "# Who should take the course?\n",
    "\n",
    "This course is intended for: \n",
    "* All students \n",
    "* Researchers \n",
    "* Data scientists \n",
    "* AI enthusiasts and all those whose mission is help humanity through finding solutions to day to day problems using AI as a tool."
   ]
  },
  {
   "cell_type": "markdown",
   "metadata": {},
   "source": [
    "# What requirements are needed for the course?"
   ]
  },
  {
   "cell_type": "code",
   "execution_count": 17,
   "metadata": {},
   "outputs": [
    {
     "data": {
      "text/html": [
       "<iframe src=\"https://giphy.com/embed/l1BgR9TDjsjOFOhhu\" width=\"480\" height=\"270\" frameBorder=\"0\" class=\"giphy-embed\" allowFullScreen></iframe><p><a href=\"https://giphy.com/gifs/lilyachty-lil-yachty-l1BgR9TDjsjOFOhhu\">via GIPHY</a></p>"
      ],
      "text/plain": [
       "<IPython.core.display.HTML object>"
      ]
     },
     "execution_count": 17,
     "metadata": {},
     "output_type": "execute_result"
    }
   ],
   "source": [
    "HTML('<iframe src=\"https://giphy.com/embed/l1BgR9TDjsjOFOhhu\" width=\"480\" height=\"270\" frameBorder=\"0\" class=\"giphy-embed\" allowFullScreen></iframe><p><a href=\"https://giphy.com/gifs/lilyachty-lil-yachty-l1BgR9TDjsjOFOhhu\">via GIPHY</a></p>')"
   ]
  },
  {
   "cell_type": "markdown",
   "metadata": {},
   "source": [
    "1. Laptop specs(4Gb through 8Gb) for Machine learning\n",
    "2. Choose a programming language (Phython)\n",
    "3. Mathematics (simple math we could build on lets say s4 maths)\n",
    "4. Algorithm Design\n",
    "\n",
    "#### Month1 —  Math and Algorithms with Python\n",
    "- Introduction to AI platforms: `Jupyter Notebooks, Anaconda,Kaggle, GitHub, AWS, Google Colab and setting up working environments`\n",
    "- Intro to python for Data Science\n",
    "- Intro to Calculus for AI.\n",
    "- Intro to Algorithms and complexity\n",
    "- Intro to Probability Theory and Statistics\n",
    "- Linear algebra\n",
    "\n",
    "#### Month2 —  Machine Learning\n",
    "- Supervised learning\n",
    "- Unsupervised learning\n",
    "\n",
    "#### Month3 —  Deep learning\n",
    "- Convolutional Networks\n",
    "- Generial Adversarial Networks\n",
    "- Reccuring and Recursive Networks."
   ]
  },
  {
   "cell_type": "markdown",
   "metadata": {},
   "source": [
    "# What can we achieve with AI?\n",
    "\n",
    "- #### `Face recognition for identity projects`\n",
    "take a picture of the intended party, and post to the server for processing, \n",
    "apply machine learning to the picture to make comparison from a big dataset of user data.\n",
    "<br>\n",
    "- #### `Diagnosis of diseases in crops`\n",
    "Tools to use\n",
    "- Phython Nearest Neighbor Algorithm\n",
    "<br>\n",
    "- #### `Determing the likelyhood of a person being approved or denied for a Loan`\n",
    "[Demo](https://beckernick.github.io/logistic-regression-from-scratch/)\n",
    "\n",
    "- #### `Marketing and business`\n",
    "AI can be used in marketing and business, a case in study: recent automated machines(cars) can deliver products to customers by themselves. [Demo](<iframe width=\"560\" height=\"315\" src=\"https://www.youtube.com/embed/sIlCR4eG8_o\" frameborder=\"0\" allow=\"autoplay; encrypted-media\" allowfullscreen></iframe>)\n",
    "\n",
    "AI is becoming the “right hand” of marketers and retailers around the world.\n",
    "\n",
    "So, if you’re asking yourself what kind of things it can do… [this article](https://blog.adext.com/en/applications-of-artificial-intelligence-in-digital-marketing) goes over, in detail, every one of its possible applications in the exclusive fields of digital marketing and sales. So, we recommend that you give it a thorough read since implementing AI in your company will bring you more benefits that you can imagine. It’s a revolution for the better.\n",
    "\n",
    "But first, let’s see some amazing summarized examples!\n",
    "\n",
    "Through AI and machine learning, the most profitable audiences can be found for any ad. This means that intelligent algorithms are able to learn, detect, and predict which types of users are more likely to become clients at a lower cost per acquisition.\n",
    "\n",
    "[Adext](https://www.adext.ai/?utm_source=blog&utm_medium=internalink&utm_campaign=applications-of-artificial-intelligence) is a software as a service that applies AI to find the most profitable audience for any ad. Using machine learning algorithms it manages, optimizes, and automatically updates your digital campaign budget in over 20 different demographic groups per ad and on several platforms. With 480 daily adjustments to every single ad, its advanced AI has been able to increase ads' conversion performance by an average of 1265%."
   ]
  },
  {
   "cell_type": "code",
   "execution_count": 14,
   "metadata": {},
   "outputs": [
    {
     "data": {
      "text/html": [
       "<iframe width=\"560\" height=\"315\" src=\"https://www.youtube.com/embed/sIlCR4eG8_o\" frameborder=\"0\" allow=\"autoplay; encrypted-media\" allowfullscreen></iframe>"
      ],
      "text/plain": [
       "<IPython.core.display.HTML object>"
      ]
     },
     "execution_count": 14,
     "metadata": {},
     "output_type": "execute_result"
    }
   ],
   "source": [
    "from IPython.display import HTML\n",
    "# Youtube\n",
    "HTML('<iframe width=\"560\" height=\"315\" src=\"https://www.youtube.com/embed/sIlCR4eG8_o\" frameborder=\"0\" allow=\"autoplay; encrypted-media\" allowfullscreen></iframe>')\n"
   ]
  },
  {
   "cell_type": "markdown",
   "metadata": {},
   "source": [
    "- #### `Diagnose Human related Diseases`\n",
    "In the Advent of AI we have come accross systems that are now able to detect and diagnose diseases faster than human beings\n",
    "[Demo](https://www.forbes.com/sites/bernardmarr/2017/05/16/how-ai-and-deep-learning-is-now-used-to-diagnose-cancer/#53e9cb7fc783)\n",
    "\n",
    "We will be able to handle such topics problems:\n",
    "There is a current competition on health care currentl running on [Kaggle](www.kaggle.com) the [competition](https://www.kaggle.com/c/rsna-pneumonia-detection-challenge) concerns detecting some health anomaly in various immages. We may need to apply deep learning for visual recognition in order to solve such expensive issues."
   ]
  },
  {
   "cell_type": "code",
   "execution_count": 15,
   "metadata": {},
   "outputs": [
    {
     "data": {
      "text/html": [
       "<iframe width=\"560\" height=\"315\" src=\"https://www.youtube.com/embed/DCcmFXXAHf4\" frameborder=\"0\" allow=\"autoplay; encrypted-media\" allowfullscreen></iframe>"
      ],
      "text/plain": [
       "<IPython.core.display.HTML object>"
      ]
     },
     "execution_count": 15,
     "metadata": {},
     "output_type": "execute_result"
    }
   ],
   "source": [
    "HTML('<iframe width=\"560\" height=\"315\" src=\"https://www.youtube.com/embed/DCcmFXXAHf4\" frameborder=\"0\" allow=\"autoplay; encrypted-media\" allowfullscreen></iframe>')"
   ]
  },
  {
   "cell_type": "code",
   "execution_count": 16,
   "metadata": {},
   "outputs": [
    {
     "data": {
      "text/html": [
       "<iframe width=\"560\" height=\"315\" src=\"https://www.youtube.com/embed/hY9Bc3mtphs\" frameborder=\"0\" allow=\"autoplay; encrypted-media\" allowfullscreen></iframe>"
      ],
      "text/plain": [
       "<IPython.core.display.HTML object>"
      ]
     },
     "execution_count": 16,
     "metadata": {},
     "output_type": "execute_result"
    }
   ],
   "source": [
    "HTML('<iframe width=\"560\" height=\"315\" src=\"https://www.youtube.com/embed/hY9Bc3mtphs\" frameborder=\"0\" allow=\"autoplay; encrypted-media\" allowfullscreen></iframe>')"
   ]
  },
  {
   "cell_type": "markdown",
   "metadata": {},
   "source": [
    "- #### `Detecting Online Fraud`\n",
    "Have you ever wondered why, if you try to use your old expired card tobuy things online you never get beyond filling in the information. Your card is  **REJECTED**  because AI algorithms have been trained to sniff out fraudulent card manipulations for security purposes."
   ]
  },
  {
   "cell_type": "markdown",
   "metadata": {},
   "source": [
    "# Way Forward"
   ]
  },
  {
   "cell_type": "code",
   "execution_count": 21,
   "metadata": {},
   "outputs": [
    {
     "data": {
      "text/html": [
       "<iframe src=\"https://giphy.com/embed/xkmNi280NkrcY\" width=\"480\" height=\"480\" frameBorder=\"0\" class=\"giphy-embed\" allowFullScreen></iframe><p><a href=\"https://giphy.com/gifs/realitytvgifs-reality-tv-xkmNi280NkrcY\">via GIPHY</a></p>"
      ],
      "text/plain": [
       "<IPython.core.display.HTML object>"
      ]
     },
     "execution_count": 21,
     "metadata": {},
     "output_type": "execute_result"
    },
    {
     "data": {
      "text/plain": [
       "<matplotlib.figure.Figure at 0x11638e550>"
      ]
     },
     "metadata": {},
     "output_type": "display_data"
    }
   ],
   "source": [
    "HTML('<iframe src=\"https://giphy.com/embed/xkmNi280NkrcY\" width=\"480\" height=\"480\" frameBorder=\"0\" class=\"giphy-embed\" allowFullScreen></iframe><p><a href=\"https://giphy.com/gifs/realitytvgifs-reality-tv-xkmNi280NkrcY\">via GIPHY</a></p>')"
   ]
  },
  {
   "cell_type": "markdown",
   "metadata": {},
   "source": [
    "## Structure:\n",
    "\n",
    "- #### `Instructors:`:\n",
    "We will have both internal and external instructors: as of now Atwine and Tonny will take you through the basics and introductions of what we are going into.\n",
    "\n",
    "- #### `Meet Ups:`\n",
    "We will have two meet ups in a month and a third: discussion class in the `middle` of the month. In this meet up we will answer questions, discuss new papers and also interact, probably this meet up will be held in a public place.\n",
    "The last meet up of the month will be strictly `Hands On`: students are expected to come with their laptops with already set environments so we can get our hands **DIRTY**\n",
    "\n",
    "- #### `Setting Up Environments:`\n",
    "Students are expected to set up  environment on their computers, these include:\n",
    "- > **Anaconda Environment:** which will help manage our python environment\n",
    "- > **GitHub Environment:** this will help us collaborate on all the projects that we will work on. Please find and follow your class Instructors so you are up to date on what is going on in the classes.\n",
    "- > **Kaggle Environment:** on this platform we will be able to access datasets and competitions to help us practice what we have learnt so far\n",
    "- > **Google Colab & AWS- Optional:** since we will be diving into heavy duty codes later we will need these two platforms for their GPU capabilities in order to run models like RRN- Recurent Recursive networks in Deep Learning \n",
    "\n",
    "\n",
    "### NOTE:\n",
    "\n",
    "For those who may not be able to access laptops all the time, it is imperative that they set up these online environments because they come set up already with the needed libraries all you need is your user name and password: most effective being a googlemail email aything@gmail.com will help you access most of these platforms."
   ]
  },
  {
   "cell_type": "code",
   "execution_count": 22,
   "metadata": {},
   "outputs": [
    {
     "data": {
      "text/html": [
       "<div style=\"width:100%;height:0;padding-bottom:75%;position:relative;\"><iframe src=\"https://giphy.com/embed/3oKGzCvdJbyWsc5Nni\" width=\"100%\" height=\"100%\" style=\"position:absolute\" frameBorder=\"0\" class=\"giphy-embed\" allowFullScreen></iframe></div><p><a href=\"https://giphy.com/gifs/flag-motivation-runner-3oKGzCvdJbyWsc5Nni\">via GIPHY</a></p>"
      ],
      "text/plain": [
       "<IPython.core.display.HTML object>"
      ]
     },
     "execution_count": 22,
     "metadata": {},
     "output_type": "execute_result"
    }
   ],
   "source": [
    "HTML('<div style=\"width:100%;height:0;padding-bottom:75%;position:relative;\"><iframe src=\"https://giphy.com/embed/3oKGzCvdJbyWsc5Nni\" width=\"100%\" height=\"100%\" style=\"position:absolute\" frameBorder=\"0\" class=\"giphy-embed\" allowFullScreen></iframe></div><p><a href=\"https://giphy.com/gifs/flag-motivation-runner-3oKGzCvdJbyWsc5Nni\">via GIPHY</a></p>')"
   ]
  },
  {
   "cell_type": "markdown",
   "metadata": {},
   "source": [
    "# HOMEWORK:-"
   ]
  },
  {
   "cell_type": "code",
   "execution_count": 23,
   "metadata": {},
   "outputs": [
    {
     "data": {
      "text/html": [
       "<div style=\"width:100%;height:0;padding-bottom:57%;position:relative;\"><iframe src=\"https://giphy.com/embed/l396BXlj6Xgzav3xK\" width=\"100%\" height=\"100%\" style=\"position:absolute\" frameBorder=\"0\" class=\"giphy-embed\" allowFullScreen></iframe></div><p><a href=\"https://giphy.com/gifs/family-guy-bruce-oh-no-l396BXlj6Xgzav3xK\">via GIPHY</a></p>"
      ],
      "text/plain": [
       "<IPython.core.display.HTML object>"
      ]
     },
     "execution_count": 23,
     "metadata": {},
     "output_type": "execute_result"
    }
   ],
   "source": [
    "HTML('<div style=\"width:100%;height:0;padding-bottom:57%;position:relative;\"><iframe src=\"https://giphy.com/embed/l396BXlj6Xgzav3xK\" width=\"100%\" height=\"100%\" style=\"position:absolute\" frameBorder=\"0\" class=\"giphy-embed\" allowFullScreen></iframe></div><p><a href=\"https://giphy.com/gifs/family-guy-bruce-oh-no-l396BXlj6Xgzav3xK\">via GIPHY</a></p>')"
   ]
  },
  {
   "cell_type": "markdown",
   "metadata": {},
   "source": [
    "- ### `Platforms`\n",
    "\n",
    "1- [Kaggle](www.kaggle.com): create an account and follow your representative\n",
    "<br>\n",
    "2- [Google Colab](https://colab.research.google.com/): all you need is a user name and password\n",
    "<br>\n",
    "3- [Anaconda](https://www.anaconda.com/download/): this will help us in launching Jupyter Notebooks\n",
    "<br>\n",
    "4- [GitHub](www.github.com): create an account and follow your representative and also download the desktop application which willhelp you clone repositories\n",
    "\n",
    "\n",
    "# THIS IS GOING TO BE EPIC"
   ]
  },
  {
   "cell_type": "code",
   "execution_count": 24,
   "metadata": {},
   "outputs": [
    {
     "data": {
      "text/html": [
       "<div style=\"width:100%;height:0;padding-bottom:99%;position:relative;\"><iframe src=\"https://giphy.com/embed/l2JhL1AzTxORUTDlC\" width=\"100%\" height=\"100%\" style=\"position:absolute\" frameBorder=\"0\" class=\"giphy-embed\" allowFullScreen></iframe></div><p><a href=\"https://giphy.com/gifs/nba-dance-dancing-l2JhL1AzTxORUTDlC\">via GIPHY</a></p>"
      ],
      "text/plain": [
       "<IPython.core.display.HTML object>"
      ]
     },
     "execution_count": 24,
     "metadata": {},
     "output_type": "execute_result"
    }
   ],
   "source": [
    "HTML('<div style=\"width:100%;height:0;padding-bottom:99%;position:relative;\"><iframe src=\"https://giphy.com/embed/l2JhL1AzTxORUTDlC\" width=\"100%\" height=\"100%\" style=\"position:absolute\" frameBorder=\"0\" class=\"giphy-embed\" allowFullScreen></iframe></div><p><a href=\"https://giphy.com/gifs/nba-dance-dancing-l2JhL1AzTxORUTDlC\">via GIPHY</a></p>')"
   ]
  },
  {
   "cell_type": "code",
   "execution_count": null,
   "metadata": {},
   "outputs": [],
   "source": []
  }
 ],
 "metadata": {
  "kernelspec": {
   "display_name": "Python 3",
   "language": "python",
   "name": "python3"
  },
  "language_info": {
   "codemirror_mode": {
    "name": "ipython",
    "version": 3
   },
   "file_extension": ".py",
   "mimetype": "text/x-python",
   "name": "python",
   "nbconvert_exporter": "python",
   "pygments_lexer": "ipython3",
   "version": "3.6.4"
  }
 },
 "nbformat": 4,
 "nbformat_minor": 2
}
